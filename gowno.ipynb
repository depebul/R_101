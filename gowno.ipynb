{
 "cells": [
  {
   "cell_type": "markdown",
   "metadata": {},
   "source": [
    "# GOWNMO"
   ]
  },
  {
   "cell_type": "code",
   "execution_count": 1,
   "metadata": {},
   "outputs": [],
   "source": [
    "import scipy.stats as stats\n",
    "import numpy as np"
   ]
  },
  {
   "cell_type": "markdown",
   "metadata": {},
   "source": [
    "Gowno zadanie 1"
   ]
  },
  {
   "cell_type": "code",
   "execution_count": 2,
   "metadata": {},
   "outputs": [
    {
     "name": "stdout",
     "output_type": "stream",
     "text": [
      "0.05240725964248516\n",
      "0.0524\n"
     ]
    }
   ],
   "source": [
    "alpha = 0.95\n",
    "df = 30\n",
    "qnorm_value = stats.norm.ppf(alpha)\n",
    "qt_value = stats.t.ppf(alpha, df)\n",
    "\n",
    "# Calculate the difference\n",
    "difference = qnorm_value - qt_value\n",
    "print(abs(difference))\n",
    "print(round(abs(difference),4))"
   ]
  },
  {
   "cell_type": "markdown",
   "metadata": {},
   "source": [
    "Gowno zadanie 2"
   ]
  },
  {
   "cell_type": "code",
   "execution_count": 3,
   "metadata": {},
   "outputs": [
    {
     "name": "stdout",
     "output_type": "stream",
     "text": [
      "154\n"
     ]
    }
   ],
   "source": [
    "alpha = 0.95\n",
    "\n",
    "\n",
    "def get_difference(k):\n",
    "    normalny = stats.norm.ppf(alpha)\n",
    "    t = stats.t.ppf(alpha, k)\n",
    "    return abs(normalny - t)\n",
    "\n",
    "\n",
    "i = 30\n",
    "while True:\n",
    "    if get_difference(i) < 0.01:\n",
    "        print(i)\n",
    "        break\n",
    "    i += 1"
   ]
  },
  {
   "cell_type": "markdown",
   "metadata": {},
   "source": [
    "Gowno zadanie 3"
   ]
  },
  {
   "cell_type": "code",
   "execution_count": 4,
   "metadata": {},
   "outputs": [
    {
     "name": "stdout",
     "output_type": "stream",
     "text": [
      "kwantyl rzędu 0.95\n",
      "rozkład t-studenta o stopniach swobody rzędu 9\n",
      "lewy koniec: 10.1802\n",
      "prawy koniec: 11.8198\n"
     ]
    }
   ],
   "source": [
    "# to sie wrzuca do testu\n",
    "n = 10\n",
    "sample_mean = 11\n",
    "alpha = 0.90\n",
    "variance = 2\n",
    "\n",
    "# liczenie\n",
    "\n",
    "costam = 1 - alpha\n",
    "ci = 1 - costam / 2\n",
    "df = n - 1\n",
    "sd = np.sqrt(variance)\n",
    "\n",
    "\n",
    "lewy_koniec = sample_mean - (stats.t.ppf(ci,df)*sd)/np.sqrt(n)\n",
    "prawy_koniec = sample_mean + (stats.t.ppf(ci,df)*sd)/np.sqrt(n)\n",
    "print(f\"kwantyl rzędu {ci}\")\n",
    "print(f\"rozkład t-studenta o stopniach swobody rzędu {df}\")\n",
    "print(f\"lewy koniec: {round(lewy_koniec,4)}\")\n",
    "print(f\"prawy koniec: {round(prawy_koniec,4)}\")"
   ]
  },
  {
   "cell_type": "markdown",
   "metadata": {},
   "source": [
    "Gowno zadanie 4"
   ]
  },
  {
   "cell_type": "code",
   "execution_count": 7,
   "metadata": {},
   "outputs": [
    {
     "name": "stdout",
     "output_type": "stream",
     "text": [
      "rozkład chi kwadrat o stopniach swobody 4\n",
      "lewy kwantyl rzędu 0.995\n",
      "prawy kwantyl rzędu 0.0050000000000000044\n",
      "średnia kreska X: 5.2\n",
      "S^2 wariancja z próby 3.7\n",
      "lewy koniec przedziału: 0.998\n",
      "prawy koniec przedziału: 8.4558\n"
     ]
    }
   ],
   "source": [
    "# to sie wrzuca do testu\n",
    "arek = [2,5,6,7,6]\n",
    "alpha = 0.99\n",
    "# liczenie\n",
    "\n",
    "n = len(arek)\n",
    "sample_mean = np.mean(arek)\n",
    "costam = 1 - alpha\n",
    "ci1 = 1 - costam / 2\n",
    "ci2 = 1 - ci1\n",
    "variance = np.var(arek,ddof=1)\n",
    "\n",
    "print(f\"rozkład chi kwadrat o stopniach swobody {n-1}\")\n",
    "\n",
    "print(f\"lewy kwantyl rzędu {ci1}\")\n",
    "print(f\"prawy kwantyl rzędu {ci2}\")\n",
    "\n",
    "print(f\"średnia kreska X: {sample_mean}\")\n",
    "print(f\"S^2 wariancja z próby {variance}\")\n",
    "\n",
    "lewy_koniec = (n - 1)*variance/stats.chi2.ppf(ci1,n-1)\n",
    "prawy_koniec = (n - 1)*variance/stats.chi2.ppf(ci2,n-1)\n",
    "# dla odchylenia standardowego\n",
    "\n",
    "lewy_koniec = np.sqrt(lewy_koniec)\n",
    "prawy_koniec = np.sqrt(prawy_koniec)\n",
    "\n",
    "print(f\"lewy koniec przedziału: {round(lewy_koniec,4)}\")\n",
    "print(f\"prawy koniec przedziału: {round(prawy_koniec,4)}\")"
   ]
  },
  {
   "cell_type": "markdown",
   "metadata": {},
   "source": [
    "Gowno zadanie 5"
   ]
  },
  {
   "cell_type": "code",
   "execution_count": 6,
   "metadata": {},
   "outputs": [
    {
     "name": "stdout",
     "output_type": "stream",
     "text": [
      "0.0070758987912110955\n"
     ]
    }
   ],
   "source": [
    "t_value = 3  \n",
    "df = 20      \n",
    "\n",
    "p_one_tail = stats.t.sf(t_value, df)\n",
    "p_value = 2 * p_one_tail\n",
    "\n",
    "\n",
    "print(p_value)"
   ]
  }
 ],
 "metadata": {
  "kernelspec": {
   "display_name": "Python 3",
   "language": "python",
   "name": "python3"
  },
  "language_info": {
   "codemirror_mode": {
    "name": "ipython",
    "version": 3
   },
   "file_extension": ".py",
   "mimetype": "text/x-python",
   "name": "python",
   "nbconvert_exporter": "python",
   "pygments_lexer": "ipython3",
   "version": "3.12.7"
  }
 },
 "nbformat": 4,
 "nbformat_minor": 2
}
