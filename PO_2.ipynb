{
 "cells": [
  {
   "cell_type": "markdown",
   "metadata": {},
   "source": [
    "# P02 Rozkład\n"
   ]
  },
  {
   "cell_type": "code",
   "execution_count": 114,
   "metadata": {},
   "outputs": [],
   "source": [
    "import numpy as np\n",
    "import scipy.stats as stats\n",
    "import matplotlib.pyplot as plt\n",
    "import seaborn as sns\n",
    "import ipywidgets as widgets\n",
    "from ipywidgets import interact"
   ]
  },
  {
   "cell_type": "markdown",
   "metadata": {},
   "source": [
    "**Wykorzystam rozkład t-studenta jako test statystyczny**\n"
   ]
  },
  {
   "cell_type": "code",
   "execution_count": 115,
   "metadata": {},
   "outputs": [
    {
     "data": {
      "application/vnd.jupyter.widget-view+json": {
       "model_id": "1472e3e5a95840c5a5418f15f7849c7a",
       "version_major": 2,
       "version_minor": 0
      },
      "text/plain": [
       "interactive(children=(IntSlider(value=2, description='k', min=1), FloatSlider(value=1.0, description='theta', …"
      ]
     },
     "metadata": {},
     "output_type": "display_data"
    },
    {
     "data": {
      "text/plain": [
       "<function __main__.update_plot(k, theta, save=False)>"
      ]
     },
     "execution_count": 115,
     "metadata": {},
     "output_type": "execute_result"
    }
   ],
   "source": [
    "def update_plot(k, theta, save=False):\n",
    "    mean = stats.gamma.mean(k, scale=theta)\n",
    "    sd = stats.gamma.std(k, scale=theta)\n",
    "\n",
    "\n",
    "    n = 1000\n",
    "    data = np.random.gamma(k, theta, n)\n",
    "    x = np.linspace(0, max(data), 1000)\n",
    "    pdf = stats.gamma.pdf(x, k, scale=theta)\n",
    "\n",
    "    sns.histplot(\n",
    "        data,\n",
    "        bins=30,\n",
    "        kde=False,\n",
    "        stat=\"density\",\n",
    "        color=\"g\",\n",
    "        label=\"Histogram danych\",\n",
    "        alpha=0.7,\n",
    "    )\n",
    "    sns.set_style(\"darkgrid\")\n",
    "    sns.lineplot(x=x, y=pdf, label=\"Funkcja gęstości\")\n",
    "    plt.title(f\"Histogram i funkcja gęstości rozkładu Gamma z k = {k} i $\\\\theta$ = {round(theta,2)}\")\n",
    "    plt.legend()\n",
    "    if save:\n",
    "        plt.savefig(f\"gamma_distribution_k_{k}_theta_{round(theta,2)}.png\")\n",
    "    \n",
    "    plt.show()\n",
    "    \n",
    "k_slider = widgets.IntSlider(value=2, min=1, max=100, step=1, description='k')\n",
    "theta_slider = widgets.FloatSlider(value=1, min=0.1, max=10, step=0.1, description='theta')\n",
    "save_checkbox = widgets.Checkbox(value=False, description='Save Image')\n",
    "# Use the interact function to update the plot when the slider value changes\n",
    "interact(update_plot, k=k_slider, theta=theta_slider, save=save_checkbox)\n"
   ]
  },
  {
   "cell_type": "markdown",
   "metadata": {},
   "source": [
    "# **FAJNO**\n"
   ]
  },
  {
   "cell_type": "code",
   "execution_count": 116,
   "metadata": {},
   "outputs": [
    {
     "data": {
      "application/vnd.jupyter.widget-view+json": {
       "model_id": "b58facb5e2e747d297007cf51b8da134",
       "version_major": 2,
       "version_minor": 0
      },
      "text/plain": [
       "interactive(children=(IntSlider(value=2, description='k', min=1), FloatSlider(value=1.0, description='theta', …"
      ]
     },
     "metadata": {},
     "output_type": "display_data"
    },
    {
     "data": {
      "text/plain": [
       "<function __main__.update_normal_plot(k, theta, s, n, save=False)>"
      ]
     },
     "execution_count": 116,
     "metadata": {},
     "output_type": "execute_result"
    }
   ],
   "source": [
    "def update_normal_plot(k, theta, s,n, save=False):\n",
    "    z_values = []\n",
    "    mean = stats.gamma.mean(k, scale=theta)\n",
    "    sd = stats.gamma.std(k, scale=theta)\n",
    "    for _ in range(s):\n",
    "        sample = np.random.gamma(k, theta, n)\n",
    "        sample_mean = np.mean(sample)\n",
    "        z = np.sqrt(n) * (sample_mean - mean) / sd\n",
    "        z_values.append(z)\n",
    "\n",
    "    z_values = np.array(z_values)\n",
    "    x = np.linspace(-4, 4, 1000)\n",
    "    normal_pdf = stats.norm.pdf(x, 0, 1)\n",
    "    sns.histplot(\n",
    "        z_values, bins=30, kde=False, stat=\"density\", color=\"b\", label=\"Histogram Zn\"\n",
    "    )\n",
    "    sns.set_style(\"darkgrid\")\n",
    "    sns.lineplot(x=x, y=normal_pdf, label=\"Gęstość N(0,1)\")\n",
    "    plt.title(\"Histogram Zn i gęstość N(0,1)\")\n",
    "    plt.legend()\n",
    "    if save:\n",
    "        plt.savefig(f\"gamma_distribution_normal_k_{k}_theta_{round(theta,2)}.png\")\n",
    "    plt.show()\n",
    "\n",
    "\n",
    "k_slider = widgets.IntSlider(value=2, min=1, max=100, step=1, description=\"k\")\n",
    "theta_slider = widgets.FloatSlider(\n",
    "    value=1, min=0.1, max=10, step=0.1, description=\"theta\"\n",
    ")\n",
    "n_slider = widgets.IntSlider(value=100, min=10, max=1000, step=10, description=\"n\")\n",
    "s_slider = widgets.IntSlider(value=10000, min=1000, max=50000, step=1000, description=\"number of samples\")\n",
    "save_checkbox = widgets.Checkbox(value=False, description=\"Save Image\")\n",
    "\n",
    "interact(update_normal_plot, k=k_slider, theta=theta_slider,s=s_slider, n=n_slider, save=save_checkbox)"
   ]
  }
 ],
 "metadata": {
  "kernelspec": {
   "display_name": "Python 3",
   "language": "python",
   "name": "python3"
  },
  "language_info": {
   "codemirror_mode": {
    "name": "ipython",
    "version": 3
   },
   "file_extension": ".py",
   "mimetype": "text/x-python",
   "name": "python",
   "nbconvert_exporter": "python",
   "pygments_lexer": "ipython3",
   "version": "3.12.7"
  }
 },
 "nbformat": 4,
 "nbformat_minor": 2
}
