{
 "cells": [
  {
   "cell_type": "markdown",
   "metadata": {},
   "source": [
    "# P02 Rozkład\n"
   ]
  },
  {
   "cell_type": "code",
   "execution_count": 126,
   "metadata": {},
   "outputs": [],
   "source": [
    "import numpy as np\n",
    "import scipy.stats as stats\n",
    "import matplotlib.pyplot as plt\n",
    "import seaborn as sns\n",
    "import ipywidgets as widgets\n",
    "from ipywidgets import interact"
   ]
  },
  {
   "cell_type": "markdown",
   "metadata": {},
   "source": [
    "**Wykorzystam rozkład t-studenta jako test statystyczny**\n"
   ]
  },
  {
   "cell_type": "code",
   "execution_count": 127,
   "metadata": {},
   "outputs": [
    {
     "data": {
      "application/vnd.jupyter.widget-view+json": {
       "model_id": "47b9432fd0fd4092932a8fcfa25129df",
       "version_major": 2,
       "version_minor": 0
      },
      "text/plain": [
       "interactive(children=(FloatSlider(value=2.0, description='k', max=10.0, min=0.4, step=0.2), FloatSlider(value=…"
      ]
     },
     "metadata": {},
     "output_type": "display_data"
    },
    {
     "data": {
      "text/plain": [
       "<function __main__.update_plot(k, theta, save=False)>"
      ]
     },
     "execution_count": 127,
     "metadata": {},
     "output_type": "execute_result"
    }
   ],
   "source": [
    "def update_plot(k, theta, save=False):\n",
    "    mean = stats.gamma.mean(k, scale=theta)\n",
    "    sd = stats.gamma.std(k, scale=theta)\n",
    "\n",
    "\n",
    "    n = 1000\n",
    "    data = np.random.gamma(k, theta, n)\n",
    "    x = np.linspace(0, max(data), 1000)\n",
    "    pdf = stats.gamma.pdf(x, k, scale=theta)\n",
    "\n",
    "    sns.histplot(\n",
    "        data,\n",
    "        bins=30,\n",
    "        kde=False,\n",
    "        stat=\"density\",\n",
    "        color=\"g\",\n",
    "        label=\"Histogram danych\",\n",
    "        alpha=0.7,\n",
    "    )\n",
    "    sns.set_style(\"darkgrid\")\n",
    "    sns.lineplot(x=x, y=pdf, label=\"Funkcja gęstości\")\n",
    "    plt.title(f\"Histogram i funkcja gęstości rozkładu Gamma z k = {round(k,2)} i $\\\\theta$ = {round(theta,2)}\")\n",
    "    plt.legend()\n",
    "    if save:\n",
    "        plt.savefig(f\"gamma_distribution_k_{round(k,2)}_theta_{round(theta,2)}.png\")\n",
    "    \n",
    "    plt.show()\n",
    "    \n",
    "k_slider = widgets.FloatSlider(value=2, min=0.4, max=10, step=0.2, description='k')\n",
    "theta_slider = widgets.FloatSlider(value=1, min=0.1, max=10, step=0.1, description='theta')\n",
    "save_checkbox = widgets.Checkbox(value=False, description='Save Image')\n",
    "interact(update_plot, k=k_slider, theta=theta_slider, save=save_checkbox)\n"
   ]
  },
  {
   "cell_type": "markdown",
   "metadata": {},
   "source": [
    "# **FAJNO**\n"
   ]
  },
  {
   "cell_type": "code",
   "execution_count": 128,
   "metadata": {},
   "outputs": [
    {
     "data": {
      "application/vnd.jupyter.widget-view+json": {
       "model_id": "c9e17c0c2edf44068a3402d5aaacaf83",
       "version_major": 2,
       "version_minor": 0
      },
      "text/plain": [
       "interactive(children=(FloatSlider(value=2.0, description='k', max=10.0, min=0.4, step=0.2), FloatSlider(value=…"
      ]
     },
     "metadata": {},
     "output_type": "display_data"
    },
    {
     "data": {
      "text/plain": [
       "<function __main__.update_normal_plot(k, theta, save=False)>"
      ]
     },
     "execution_count": 128,
     "metadata": {},
     "output_type": "execute_result"
    }
   ],
   "source": [
    "def update_normal_plot(k, theta, save=False):\n",
    "    z_values = []\n",
    "    s = 10000\n",
    "    n = 1000\n",
    "    mean = stats.gamma.mean(k, scale=theta)\n",
    "    sd = stats.gamma.std(k, scale=theta)\n",
    "    for _ in range(s):\n",
    "        sample = np.random.gamma(k, theta, n)\n",
    "        sample_mean = np.mean(sample)\n",
    "        z = np.sqrt(n) * (sample_mean - mean) / sd\n",
    "        z_values.append(z)\n",
    "\n",
    "    z_values = np.array(z_values)\n",
    "    x = np.linspace(-4, 4, 1000)\n",
    "    normal_pdf = stats.norm.pdf(x, 0, 1)\n",
    "    sns.histplot(\n",
    "        z_values, bins=30, kde=False, stat=\"density\", color=\"b\", label=\"Histogram Zn\"\n",
    "    )\n",
    "    sns.set_style(\"darkgrid\")\n",
    "    sns.lineplot(x=x, y=normal_pdf, label=\"Gęstość N(0,1)\")\n",
    "    plt.title(\"Histogram Zn i gęstość N(0,1)\")\n",
    "    plt.legend()\n",
    "    if save:\n",
    "        plt.savefig(f\"gamma_distribution_normal_k_{round(k,2)}_theta_{round(theta,2)}.png\")\n",
    "    plt.show()\n",
    "\n",
    "\n",
    "k_slider = widgets.FloatSlider(value=2, min=0.4, max=10, step=0.2, description='k')\n",
    "theta_slider = widgets.FloatSlider(value=1, min=0.1, max=10, step=0.1, description='theta')\n",
    "save_checkbox = widgets.Checkbox(value=False, description=\"Save Image\")\n",
    "\n",
    "interact(update_normal_plot, k=k_slider, theta=theta_slider, save=save_checkbox)"
   ]
  }
 ],
 "metadata": {
  "kernelspec": {
   "display_name": "Python 3",
   "language": "python",
   "name": "python3"
  },
  "language_info": {
   "codemirror_mode": {
    "name": "ipython",
    "version": 3
   },
   "file_extension": ".py",
   "mimetype": "text/x-python",
   "name": "python",
   "nbconvert_exporter": "python",
   "pygments_lexer": "ipython3",
   "version": "3.12.7"
  }
 },
 "nbformat": 4,
 "nbformat_minor": 2
}
